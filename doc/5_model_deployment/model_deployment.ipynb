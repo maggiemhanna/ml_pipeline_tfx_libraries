{
 "cells": [
  {
   "cell_type": "code",
   "execution_count": 1,
   "metadata": {},
   "outputs": [],
   "source": [
    "import os"
   ]
  },
  {
   "cell_type": "code",
   "execution_count": 38,
   "metadata": {},
   "outputs": [
    {
     "name": "stdout",
     "output_type": "stream",
     "text": [
      "INFO: A model with same name already exists on AI Platform.\n",
      "INFO: A version with same name exists. This version has already been deployed and will not be deployed again.\n",
      "INFO: Done.\n"
     ]
    },
    {
     "name": "stderr",
     "output_type": "stream",
     "text": [
      "Using endpoint [https://ml.googleapis.com/]\n",
      "ERROR: (gcloud.ai-platform.models.create) Resource in project [irn-70656-dev-1307100302] is the subject of a conflict: Field: model.name Error: A model with the same name already exists.\n",
      "- '@type': type.googleapis.com/google.rpc.BadRequest\n",
      "  fieldViolations:\n",
      "  - description: A model with the same name already exists.\n",
      "    field: model.name\n",
      "Using endpoint [https://ml.googleapis.com/]\n",
      "ERROR: (gcloud.ai-platform.versions.create) ALREADY_EXISTS: Field: version.name Error: A version with the same name already exists.\n",
      "- '@type': type.googleapis.com/google.rpc.BadRequest\n",
      "  fieldViolations:\n",
      "  - description: A version with the same name already exists.\n",
      "    field: version.name\n",
      "Copying gs://bike-sharing-pipeline-metadata/v0_1/run/200903_214338/data_validation/schema/data_schema.txt...\n",
      "/ [1 files][  2.0 KiB/  2.0 KiB]                                                \n",
      "Operation completed over 1 objects/2.0 KiB.                                      \n",
      "Copying gs://bike-sharing-pipeline-metadata/v0_1/run/200903_214338/data_validation/stats/data_stats.txt [Content-Type=application/octet-stream]...\n",
      "/ [1 files][ 45.8 KiB/ 45.8 KiB]                                                \n",
      "Operation completed over 1 objects/45.8 KiB.                                     \n"
     ]
    }
   ],
   "source": [
    "%%bash \n",
    "\n",
    "# Input Arguments\n",
    "# Example of input arguments for the model analysis component\n",
    "export PROJECT=\"irn-70656-dev-1307100302\"\n",
    "export REGION='europe-west1'\n",
    "export BUCKET=\"bike-sharing-pipeline-metadata\"\n",
    "export PIPELINE_VERSION=\"v0_1\"\n",
    "export DATA_VERSION=\"200903_214338\"\n",
    "export MODEL_VERSION=\"200904_221959\"\n",
    "export TRIAL_ID=\"None\"\n",
    "export TF_VERSION='2.2'\n",
    "export PYTHON_VERSION='3.7'\n",
    "export DEPLOYMENT_FLAG='OK'\n",
    "\n",
    "# Setting Paths \n",
    "# Set up some globals for gcs file\n",
    "HANDLER='gs://' # ../ for local data, gs:// for cloud data\n",
    "\n",
    "BASE_DIR=${HANDLER}${BUCKET}/${PIPELINE_VERSION}\n",
    "RUN_DIR=${BASE_DIR}/run/${DATA_VERSION}\n",
    "\n",
    "if [ $TRIAL_ID == 'None' ]; then\n",
    "    MODEL_DIR=${RUN_DIR}/model_training/${MODEL_VERSION}/export/exporter\n",
    "else \n",
    "    MODEL_DIR=${RUN_DIR}/model_training/${MODEL_VERSION}/${TRIAL_ID}/export/exporter\n",
    "fi\n",
    "\n",
    "# Setting Model Name and Version on AI Platform\n",
    "\n",
    "MODEL_NAME=\"bike_sharing_model\"\n",
    "MODEL_VERSION_NAME=${PIPELINE_VERSION}__${DATA_VERSION}__${MODEL_VERSION}\n",
    "\n",
    "for EXPORTER in $(gsutil ls  ${MODEL_DIR}); do \n",
    "    EXPORTER_DIR=$EXPORTER\n",
    "done; \n",
    "\n",
    "# Deploy Model if deployment flag is 'OK'\n",
    "# Deploy best model from hyperparameter tuning\n",
    "if [ $DEPLOYMENT_FLAG == 'OK' ]; then\n",
    "    if gcloud ai-platform models create ${MODEL_NAME} --regions ${REGION}; then\n",
    "        echo \"INFO: A new model ${MODEL_NAME} has been created on AI Platform.\"\n",
    "    else\n",
    "        echo \"INFO: A model with same name already exists on AI Platform.\"\n",
    "    fi\n",
    "    if gcloud ai-platform versions create ${MODEL_VERSION_NAME} --model ${MODEL_NAME} --origin ${EXPORTER_DIR} --runtime-version ${TF_VERSION} --python-version ${PYTHON_VERSION}; then\n",
    "        echo \"INFO: A new version ${MODEL_VERSION_NAME} has been deployed for model ${MODEL_NAME}.\"\n",
    "        gcloud ai-platform versions set-default ${MODEL_VERSION_NAME} --model=${MODEL_NAME} \n",
    "        echo \"INFO: The new version ${MODEL_VERSION_NAME} has been set as default version for model ${MODEL_NAME}.\"\n",
    "    \n",
    "    # Update pipeline frozen statistics and schema\n",
    "    DATA_SCHEMA_DIR=${RUN_DIR}/data_validation/schema/data_schema.txt\n",
    "    FREEZE_SCHEMA_DIR=gs://${BUCKET}/${PIPELINE_VERSION}/freeze/frozen_schema.txt\n",
    "\n",
    "    # Update pipeline frozen statistics and schema\n",
    "    DATA_STATS_DIR=${RUN_DIR}/data_validation/stats/data_stats.txt\n",
    "    FREEZE_STATS_DIR=gs://${BUCKET}/${PIPELINE_VERSION}/freeze/frozen_stats.txt\n",
    "\n",
    "    gsutil cp ${DATA_SCHEMA_DIR} ${FREEZE_SCHEMA_DIR}\n",
    "    gsutil cp ${DATA_STATS_DIR} ${FREEZE_STATS_DIR}\n",
    "    \n",
    "    echo \"INFO: Pipeline frozen statistics and schema were updated.\"\n",
    "\n",
    "    else\n",
    "        echo \"INFO: A version with same name exists. This version has already been deployed and will not be deployed again.\"\n",
    "    fi\n",
    "\n",
    "else\n",
    "    echo \"INFO: The new model does not improve performance and was not deployed.\"\n",
    "fi\n",
    "\n",
    "# Write output file for next step in pipeline\n",
    "\n",
    "echo \"INFO: Done.\"\n",
    "\n",
    "# Update pipeline frozen statistics and schema\n",
    "DATA_SCHEMA_DIR=${RUN_DIR}/data_validation/schema/data_schema.txt\n",
    "FREEZE_SCHEMA_DIR=gs://${BUCKET}/${PIPELINE_VERSION}/freeze/frozen_schema.txt\n",
    "\n",
    "# Update pipeline frozen statistics and schema\n",
    "DATA_STATS_DIR=${RUN_DIR}/data_validation/stats/data_stats.txt\n",
    "FREEZE_STATS_DIR=gs://${BUCKET}/${PIPELINE_VERSION}/freeze/frozen_stats.txt\n",
    "\n",
    "gsutil cp ${DATA_SCHEMA_DIR} ${FREEZE_SCHEMA_DIR}\n",
    "gsutil cp ${DATA_STATS_DIR} ${FREEZE_STATS_DIR}"
   ]
  }
 ],
 "metadata": {
  "environment": {
   "name": "tf2-2-3-gpu.2-3.m55",
   "type": "gcloud",
   "uri": "gcr.io/deeplearning-platform-release/tf2-2-3-gpu.2-3:m55"
  },
  "kernelspec": {
   "display_name": "Python 3",
   "language": "python",
   "name": "python3"
  },
  "language_info": {
   "codemirror_mode": {
    "name": "ipython",
    "version": 3
   },
   "file_extension": ".py",
   "mimetype": "text/x-python",
   "name": "python",
   "nbconvert_exporter": "python",
   "pygments_lexer": "ipython3",
   "version": "3.7.8"
  }
 },
 "nbformat": 4,
 "nbformat_minor": 4
}
